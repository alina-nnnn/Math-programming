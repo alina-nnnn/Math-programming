{
 "cells": [
  {
   "cell_type": "code",
   "execution_count": 1,
   "id": "07e45f99",
   "metadata": {},
   "outputs": [],
   "source": [
    "import pandas as pd\n",
    "import numpy as np"
   ]
  },
  {
   "cell_type": "code",
   "execution_count": 2,
   "id": "1d34fa21",
   "metadata": {},
   "outputs": [],
   "source": [
    "df1 = pd.DataFrame({'Техн. Характеристика': ['Мощность, л.с.', 'max скорость, км/ч', 'Снаряженная масса, кг', 'Объем багажника, л'],\n",
    "                  'Tesla Model 3': ['258', '225', '1730', '425'],\n",
    "                  'Tesla Model S 90D': ['422', '250', '2220', '745'],\n",
    "                  'Tesla Model X': ['333', '210', '2352', '187'],\n",
    "                  })"
   ]
  },
  {
   "cell_type": "code",
   "execution_count": 3,
   "id": "c48e6048",
   "metadata": {},
   "outputs": [
    {
     "data": {
      "text/html": [
       "<div>\n",
       "<style scoped>\n",
       "    .dataframe tbody tr th:only-of-type {\n",
       "        vertical-align: middle;\n",
       "    }\n",
       "\n",
       "    .dataframe tbody tr th {\n",
       "        vertical-align: top;\n",
       "    }\n",
       "\n",
       "    .dataframe thead th {\n",
       "        text-align: right;\n",
       "    }\n",
       "</style>\n",
       "<table border=\"1\" class=\"dataframe\">\n",
       "  <thead>\n",
       "    <tr style=\"text-align: right;\">\n",
       "      <th></th>\n",
       "      <th>Техн. Характеристика</th>\n",
       "      <th>Tesla Model 3</th>\n",
       "      <th>Tesla Model S 90D</th>\n",
       "      <th>Tesla Model X</th>\n",
       "    </tr>\n",
       "  </thead>\n",
       "  <tbody>\n",
       "    <tr>\n",
       "      <th>0</th>\n",
       "      <td>Мощность, л.с.</td>\n",
       "      <td>258</td>\n",
       "      <td>422</td>\n",
       "      <td>333</td>\n",
       "    </tr>\n",
       "    <tr>\n",
       "      <th>1</th>\n",
       "      <td>max скорость, км/ч</td>\n",
       "      <td>225</td>\n",
       "      <td>250</td>\n",
       "      <td>210</td>\n",
       "    </tr>\n",
       "    <tr>\n",
       "      <th>2</th>\n",
       "      <td>Снаряженная масса, кг</td>\n",
       "      <td>1730</td>\n",
       "      <td>2220</td>\n",
       "      <td>2352</td>\n",
       "    </tr>\n",
       "    <tr>\n",
       "      <th>3</th>\n",
       "      <td>Объем багажника, л</td>\n",
       "      <td>425</td>\n",
       "      <td>745</td>\n",
       "      <td>187</td>\n",
       "    </tr>\n",
       "  </tbody>\n",
       "</table>\n",
       "</div>"
      ],
      "text/plain": [
       "    Техн. Характеристика Tesla Model 3 Tesla Model S 90D Tesla Model X\n",
       "0         Мощность, л.с.           258               422           333\n",
       "1     max скорость, км/ч           225               250           210\n",
       "2  Снаряженная масса, кг          1730              2220          2352\n",
       "3     Объем багажника, л           425               745           187"
      ]
     },
     "execution_count": 3,
     "metadata": {},
     "output_type": "execute_result"
    }
   ],
   "source": [
    "df1"
   ]
  },
  {
   "cell_type": "code",
   "execution_count": 4,
   "id": "40ea8dc5",
   "metadata": {},
   "outputs": [],
   "source": [
    "df1['Tesla Model 3'] = df1['Tesla Model 3'].astype(np.int64)\n",
    "df1['Tesla Model S 90D'] = df1['Tesla Model S 90D'].astype(np.int64)\n",
    "df1['Tesla Model X'] = df1['Tesla Model X'].astype(np.int64)"
   ]
  },
  {
   "cell_type": "code",
   "execution_count": 5,
   "id": "69a953ed",
   "metadata": {},
   "outputs": [
    {
     "name": "stdout",
     "output_type": "stream",
     "text": [
      "<class 'pandas.core.frame.DataFrame'>\n",
      "RangeIndex: 4 entries, 0 to 3\n",
      "Data columns (total 4 columns):\n",
      " #   Column                Non-Null Count  Dtype \n",
      "---  ------                --------------  ----- \n",
      " 0   Техн. Характеристика  4 non-null      object\n",
      " 1   Tesla Model 3         4 non-null      int64 \n",
      " 2   Tesla Model S 90D     4 non-null      int64 \n",
      " 3   Tesla Model X         4 non-null      int64 \n",
      "dtypes: int64(3), object(1)\n",
      "memory usage: 256.0+ bytes\n"
     ]
    }
   ],
   "source": [
    "df1.info()"
   ]
  },
  {
   "cell_type": "code",
   "execution_count": 6,
   "id": "ccf881a3",
   "metadata": {},
   "outputs": [
    {
     "data": {
      "text/html": [
       "<div>\n",
       "<style scoped>\n",
       "    .dataframe tbody tr th:only-of-type {\n",
       "        vertical-align: middle;\n",
       "    }\n",
       "\n",
       "    .dataframe tbody tr th {\n",
       "        vertical-align: top;\n",
       "    }\n",
       "\n",
       "    .dataframe thead th {\n",
       "        text-align: right;\n",
       "    }\n",
       "</style>\n",
       "<table border=\"1\" class=\"dataframe\">\n",
       "  <thead>\n",
       "    <tr style=\"text-align: right;\">\n",
       "      <th></th>\n",
       "      <th>Техн. Характеристика</th>\n",
       "      <th>Tesla Model 3</th>\n",
       "      <th>Tesla Model S 90D</th>\n",
       "      <th>Tesla Model X</th>\n",
       "    </tr>\n",
       "  </thead>\n",
       "  <tbody>\n",
       "    <tr>\n",
       "      <th>0</th>\n",
       "      <td>Мощность, л.с.</td>\n",
       "      <td>258</td>\n",
       "      <td>422</td>\n",
       "      <td>333</td>\n",
       "    </tr>\n",
       "    <tr>\n",
       "      <th>1</th>\n",
       "      <td>max скорость, км/ч</td>\n",
       "      <td>225</td>\n",
       "      <td>250</td>\n",
       "      <td>210</td>\n",
       "    </tr>\n",
       "    <tr>\n",
       "      <th>2</th>\n",
       "      <td>Снаряженная масса, кг</td>\n",
       "      <td>1730</td>\n",
       "      <td>2220</td>\n",
       "      <td>2352</td>\n",
       "    </tr>\n",
       "    <tr>\n",
       "      <th>3</th>\n",
       "      <td>Объем багажника, л</td>\n",
       "      <td>425</td>\n",
       "      <td>745</td>\n",
       "      <td>187</td>\n",
       "    </tr>\n",
       "  </tbody>\n",
       "</table>\n",
       "</div>"
      ],
      "text/plain": [
       "    Техн. Характеристика  Tesla Model 3  Tesla Model S 90D  Tesla Model X\n",
       "0         Мощность, л.с.            258                422            333\n",
       "1     max скорость, км/ч            225                250            210\n",
       "2  Снаряженная масса, кг           1730               2220           2352\n",
       "3     Объем багажника, л            425                745            187"
      ]
     },
     "execution_count": 6,
     "metadata": {},
     "output_type": "execute_result"
    }
   ],
   "source": [
    "df1"
   ]
  },
  {
   "cell_type": "code",
   "execution_count": 7,
   "id": "ab3ee657",
   "metadata": {},
   "outputs": [],
   "source": [
    "df2 = pd.DataFrame({'Эконом. Характеристика': ['Цена продаж(рубеж), $', 'Цена в России, $'],\n",
    "                  'Tesla Model 3': ['19939', '95778.38'],\n",
    "                  'Tesla Model S 90D': ['24939', '544031.22'],\n",
    "                  'Tesla Model X': ['142000', '192750.29'],\n",
    "                  })"
   ]
  },
  {
   "cell_type": "code",
   "execution_count": 8,
   "id": "4d03d94b",
   "metadata": {},
   "outputs": [
    {
     "data": {
      "text/html": [
       "<div>\n",
       "<style scoped>\n",
       "    .dataframe tbody tr th:only-of-type {\n",
       "        vertical-align: middle;\n",
       "    }\n",
       "\n",
       "    .dataframe tbody tr th {\n",
       "        vertical-align: top;\n",
       "    }\n",
       "\n",
       "    .dataframe thead th {\n",
       "        text-align: right;\n",
       "    }\n",
       "</style>\n",
       "<table border=\"1\" class=\"dataframe\">\n",
       "  <thead>\n",
       "    <tr style=\"text-align: right;\">\n",
       "      <th></th>\n",
       "      <th>Эконом. Характеристика</th>\n",
       "      <th>Tesla Model 3</th>\n",
       "      <th>Tesla Model S 90D</th>\n",
       "      <th>Tesla Model X</th>\n",
       "    </tr>\n",
       "  </thead>\n",
       "  <tbody>\n",
       "    <tr>\n",
       "      <th>0</th>\n",
       "      <td>Цена продаж(рубеж), $</td>\n",
       "      <td>19939</td>\n",
       "      <td>24939</td>\n",
       "      <td>142000</td>\n",
       "    </tr>\n",
       "    <tr>\n",
       "      <th>1</th>\n",
       "      <td>Цена в России, $</td>\n",
       "      <td>95778.38</td>\n",
       "      <td>544031.22</td>\n",
       "      <td>192750.29</td>\n",
       "    </tr>\n",
       "  </tbody>\n",
       "</table>\n",
       "</div>"
      ],
      "text/plain": [
       "  Эконом. Характеристика Tesla Model 3 Tesla Model S 90D Tesla Model X\n",
       "0  Цена продаж(рубеж), $         19939             24939        142000\n",
       "1       Цена в России, $      95778.38         544031.22     192750.29"
      ]
     },
     "execution_count": 8,
     "metadata": {},
     "output_type": "execute_result"
    }
   ],
   "source": [
    "df2"
   ]
  },
  {
   "cell_type": "code",
   "execution_count": 9,
   "id": "9a61c7d5",
   "metadata": {},
   "outputs": [],
   "source": [
    "df2['Tesla Model 3'] = df2['Tesla Model 3'].astype(np.float64)\n",
    "df2['Tesla Model S 90D'] = df2['Tesla Model S 90D'].astype(np.float64)\n",
    "df2['Tesla Model X'] = df2['Tesla Model X'].astype(np.float64)"
   ]
  },
  {
   "cell_type": "code",
   "execution_count": 10,
   "id": "0407b5b9",
   "metadata": {},
   "outputs": [
    {
     "name": "stdout",
     "output_type": "stream",
     "text": [
      "<class 'pandas.core.frame.DataFrame'>\n",
      "RangeIndex: 2 entries, 0 to 1\n",
      "Data columns (total 4 columns):\n",
      " #   Column                  Non-Null Count  Dtype  \n",
      "---  ------                  --------------  -----  \n",
      " 0   Эконом. Характеристика  2 non-null      object \n",
      " 1   Tesla Model 3           2 non-null      float64\n",
      " 2   Tesla Model S 90D       2 non-null      float64\n",
      " 3   Tesla Model X           2 non-null      float64\n",
      "dtypes: float64(3), object(1)\n",
      "memory usage: 192.0+ bytes\n"
     ]
    }
   ],
   "source": [
    "df2.info()"
   ]
  },
  {
   "cell_type": "markdown",
   "id": "5c33b7ec",
   "metadata": {},
   "source": [
    "### Лучшее значение(идеальная модель)"
   ]
  },
  {
   "cell_type": "code",
   "execution_count": 11,
   "id": "c35d23b8",
   "metadata": {},
   "outputs": [
    {
     "data": {
      "text/html": [
       "<div>\n",
       "<style scoped>\n",
       "    .dataframe tbody tr th:only-of-type {\n",
       "        vertical-align: middle;\n",
       "    }\n",
       "\n",
       "    .dataframe tbody tr th {\n",
       "        vertical-align: top;\n",
       "    }\n",
       "\n",
       "    .dataframe thead th {\n",
       "        text-align: right;\n",
       "    }\n",
       "</style>\n",
       "<table border=\"1\" class=\"dataframe\">\n",
       "  <thead>\n",
       "    <tr style=\"text-align: right;\">\n",
       "      <th></th>\n",
       "      <th>Техн. Характеристика</th>\n",
       "      <th>Tesla Model 3</th>\n",
       "      <th>Tesla Model S 90D</th>\n",
       "      <th>Tesla Model X</th>\n",
       "      <th>Лучшее зн-е</th>\n",
       "    </tr>\n",
       "  </thead>\n",
       "  <tbody>\n",
       "    <tr>\n",
       "      <th>0</th>\n",
       "      <td>Мощность, л.с.</td>\n",
       "      <td>258</td>\n",
       "      <td>422</td>\n",
       "      <td>333</td>\n",
       "      <td>422</td>\n",
       "    </tr>\n",
       "    <tr>\n",
       "      <th>1</th>\n",
       "      <td>max скорость, км/ч</td>\n",
       "      <td>225</td>\n",
       "      <td>250</td>\n",
       "      <td>210</td>\n",
       "      <td>250</td>\n",
       "    </tr>\n",
       "    <tr>\n",
       "      <th>2</th>\n",
       "      <td>Снаряженная масса, кг</td>\n",
       "      <td>1730</td>\n",
       "      <td>2220</td>\n",
       "      <td>2352</td>\n",
       "      <td>2352</td>\n",
       "    </tr>\n",
       "    <tr>\n",
       "      <th>3</th>\n",
       "      <td>Объем багажника, л</td>\n",
       "      <td>425</td>\n",
       "      <td>745</td>\n",
       "      <td>187</td>\n",
       "      <td>745</td>\n",
       "    </tr>\n",
       "  </tbody>\n",
       "</table>\n",
       "</div>"
      ],
      "text/plain": [
       "    Техн. Характеристика  Tesla Model 3  Tesla Model S 90D  Tesla Model X  \\\n",
       "0         Мощность, л.с.            258                422            333   \n",
       "1     max скорость, км/ч            225                250            210   \n",
       "2  Снаряженная масса, кг           1730               2220           2352   \n",
       "3     Объем багажника, л            425                745            187   \n",
       "\n",
       "   Лучшее зн-е  \n",
       "0          422  \n",
       "1          250  \n",
       "2         2352  \n",
       "3          745  "
      ]
     },
     "execution_count": 11,
     "metadata": {},
     "output_type": "execute_result"
    }
   ],
   "source": [
    "df1['Лучшее зн-е'] =  df1.max(axis=1)\n",
    "df1"
   ]
  },
  {
   "cell_type": "code",
   "execution_count": 12,
   "id": "1e4780ae",
   "metadata": {},
   "outputs": [
    {
     "data": {
      "text/html": [
       "<div>\n",
       "<style scoped>\n",
       "    .dataframe tbody tr th:only-of-type {\n",
       "        vertical-align: middle;\n",
       "    }\n",
       "\n",
       "    .dataframe tbody tr th {\n",
       "        vertical-align: top;\n",
       "    }\n",
       "\n",
       "    .dataframe thead th {\n",
       "        text-align: right;\n",
       "    }\n",
       "</style>\n",
       "<table border=\"1\" class=\"dataframe\">\n",
       "  <thead>\n",
       "    <tr style=\"text-align: right;\">\n",
       "      <th></th>\n",
       "      <th>Эконом. Характеристика</th>\n",
       "      <th>Tesla Model 3</th>\n",
       "      <th>Tesla Model S 90D</th>\n",
       "      <th>Tesla Model X</th>\n",
       "      <th>Лучшее зн-е</th>\n",
       "    </tr>\n",
       "  </thead>\n",
       "  <tbody>\n",
       "    <tr>\n",
       "      <th>0</th>\n",
       "      <td>Цена продаж(рубеж), $</td>\n",
       "      <td>19939.00</td>\n",
       "      <td>24939.00</td>\n",
       "      <td>142000.00</td>\n",
       "      <td>19939.00</td>\n",
       "    </tr>\n",
       "    <tr>\n",
       "      <th>1</th>\n",
       "      <td>Цена в России, $</td>\n",
       "      <td>95778.38</td>\n",
       "      <td>544031.22</td>\n",
       "      <td>192750.29</td>\n",
       "      <td>95778.38</td>\n",
       "    </tr>\n",
       "  </tbody>\n",
       "</table>\n",
       "</div>"
      ],
      "text/plain": [
       "  Эконом. Характеристика  Tesla Model 3  Tesla Model S 90D  Tesla Model X  \\\n",
       "0  Цена продаж(рубеж), $       19939.00           24939.00      142000.00   \n",
       "1       Цена в России, $       95778.38          544031.22      192750.29   \n",
       "\n",
       "   Лучшее зн-е  \n",
       "0     19939.00  \n",
       "1     95778.38  "
      ]
     },
     "execution_count": 12,
     "metadata": {},
     "output_type": "execute_result"
    }
   ],
   "source": [
    "df2['Лучшее зн-е'] =  df2.min(axis=1)\n",
    "df2"
   ]
  },
  {
   "cell_type": "markdown",
   "id": "e001274a",
   "metadata": {},
   "source": [
    "### Расчет частных нормированных показателей"
   ]
  },
  {
   "cell_type": "markdown",
   "id": "889ac602",
   "metadata": {},
   "source": [
    "#### Техн. хар-ки"
   ]
  },
  {
   "cell_type": "code",
   "execution_count": 13,
   "id": "8d99bf64",
   "metadata": {},
   "outputs": [
    {
     "data": {
      "text/plain": [
       "[0.6113744075829384, 0.9, 0.7355442176870748, 0.5704697986577181]"
      ]
     },
     "execution_count": 13,
     "metadata": {},
     "output_type": "execute_result"
    }
   ],
   "source": [
    "list_mod_3 = []\n",
    "for i in range(len(df1['Tesla Model 3'])):\n",
    "    elem = df1['Tesla Model 3'].loc[df1.index[i]] / df1['Лучшее зн-е'].loc[df1.index[i]]\n",
    "    list_mod_3.append(elem)\n",
    "    \n",
    "list_mod_3"
   ]
  },
  {
   "cell_type": "code",
   "execution_count": 14,
   "id": "ba2d1a82",
   "metadata": {},
   "outputs": [
    {
     "data": {
      "text/plain": [
       "[1.0, 1.0, 0.9438775510204082, 1.0]"
      ]
     },
     "execution_count": 14,
     "metadata": {},
     "output_type": "execute_result"
    }
   ],
   "source": [
    "list_mod_s = []\n",
    "for i in range(len(df1['Tesla Model S 90D'])):\n",
    "    elem = df1['Tesla Model S 90D'].loc[df1.index[i]] / df1['Лучшее зн-е'].loc[df1.index[i]]\n",
    "    list_mod_s.append(elem)\n",
    "    \n",
    "list_mod_s"
   ]
  },
  {
   "cell_type": "code",
   "execution_count": 15,
   "id": "4a1d521b",
   "metadata": {},
   "outputs": [
    {
     "data": {
      "text/plain": [
       "[0.7890995260663507, 0.84, 1.0, 0.25100671140939596]"
      ]
     },
     "execution_count": 15,
     "metadata": {},
     "output_type": "execute_result"
    }
   ],
   "source": [
    "list_mod_x = []\n",
    "for i in range(len(df1['Tesla Model X'])):\n",
    "    elem = df1['Tesla Model X'].loc[df1.index[i]] / df1['Лучшее зн-е'].loc[df1.index[i]]\n",
    "    list_mod_x.append(elem)\n",
    "    \n",
    "list_mod_x"
   ]
  },
  {
   "cell_type": "markdown",
   "id": "c8aa9d8f",
   "metadata": {},
   "source": [
    "#### Эконом. хар-ки"
   ]
  },
  {
   "cell_type": "code",
   "execution_count": 16,
   "id": "b1a27e2a",
   "metadata": {},
   "outputs": [
    {
     "data": {
      "text/plain": [
       "[1.0, 1.0]"
      ]
     },
     "execution_count": 16,
     "metadata": {},
     "output_type": "execute_result"
    }
   ],
   "source": [
    "list_mod_3_e = []\n",
    "for i in range(len(df2['Tesla Model 3'])):\n",
    "    elem = df2['Лучшее зн-е'].loc[df2.index[i]] / df2['Tesla Model 3'].loc[df2.index[i]]\n",
    "    list_mod_3_e.append(elem)\n",
    "    \n",
    "list_mod_3_e"
   ]
  },
  {
   "cell_type": "code",
   "execution_count": 17,
   "id": "5fefcf6b",
   "metadata": {},
   "outputs": [
    {
     "data": {
      "text/plain": [
       "[0.7995108063675368, 0.17605309489407614]"
      ]
     },
     "execution_count": 17,
     "metadata": {},
     "output_type": "execute_result"
    }
   ],
   "source": [
    "list_mod_s_e = []\n",
    "for i in range(len(df2['Tesla Model S 90D'])):\n",
    "    elem = df2['Лучшее зн-е'].loc[df2.index[i]] / df2['Tesla Model S 90D'].loc[df2.index[i]]\n",
    "    list_mod_s_e.append(elem)\n",
    "    \n",
    "list_mod_s_e"
   ]
  },
  {
   "cell_type": "code",
   "execution_count": 18,
   "id": "056629cb",
   "metadata": {},
   "outputs": [
    {
     "data": {
      "text/plain": [
       "[0.14041549295774647, 0.49690394758939144]"
      ]
     },
     "execution_count": 18,
     "metadata": {},
     "output_type": "execute_result"
    }
   ],
   "source": [
    "list_mod_x_e = []\n",
    "for i in range(len(df2['Tesla Model X'])):\n",
    "    elem = df2['Лучшее зн-е'].loc[df2.index[i]] / df2['Tesla Model X'].loc[df2.index[i]]\n",
    "    list_mod_x_e.append(elem)\n",
    "    \n",
    "list_mod_x_e"
   ]
  },
  {
   "cell_type": "markdown",
   "id": "896bfe60",
   "metadata": {},
   "source": [
    "#### Таблица"
   ]
  },
  {
   "cell_type": "code",
   "execution_count": 19,
   "id": "565c53be",
   "metadata": {},
   "outputs": [],
   "source": [
    "df_chp_1 = pd.DataFrame({'Техн. Характеристика': ['Мощность, л.с.', 'max скорость, км/ч', 'Снаряженная масса, кг', 'Объем багажника, л'],\n",
    "                  'Tesla Model 3': [list_mod_3[0], list_mod_3[1], list_mod_3[2], list_mod_3[3]],\n",
    "                  'Tesla Model S 90D': [list_mod_s[0], list_mod_s[1], list_mod_s[2], list_mod_s[3]],\n",
    "                  'Tesla Model X': [list_mod_x[0], list_mod_x[1], list_mod_x[2], list_mod_x[3]],\n",
    "                  })"
   ]
  },
  {
   "cell_type": "code",
   "execution_count": 20,
   "id": "e433abc5",
   "metadata": {},
   "outputs": [
    {
     "data": {
      "text/html": [
       "<div>\n",
       "<style scoped>\n",
       "    .dataframe tbody tr th:only-of-type {\n",
       "        vertical-align: middle;\n",
       "    }\n",
       "\n",
       "    .dataframe tbody tr th {\n",
       "        vertical-align: top;\n",
       "    }\n",
       "\n",
       "    .dataframe thead th {\n",
       "        text-align: right;\n",
       "    }\n",
       "</style>\n",
       "<table border=\"1\" class=\"dataframe\">\n",
       "  <thead>\n",
       "    <tr style=\"text-align: right;\">\n",
       "      <th></th>\n",
       "      <th>Техн. Характеристика</th>\n",
       "      <th>Tesla Model 3</th>\n",
       "      <th>Tesla Model S 90D</th>\n",
       "      <th>Tesla Model X</th>\n",
       "    </tr>\n",
       "  </thead>\n",
       "  <tbody>\n",
       "    <tr>\n",
       "      <th>0</th>\n",
       "      <td>Мощность, л.с.</td>\n",
       "      <td>0.611374</td>\n",
       "      <td>1.000000</td>\n",
       "      <td>0.789100</td>\n",
       "    </tr>\n",
       "    <tr>\n",
       "      <th>1</th>\n",
       "      <td>max скорость, км/ч</td>\n",
       "      <td>0.900000</td>\n",
       "      <td>1.000000</td>\n",
       "      <td>0.840000</td>\n",
       "    </tr>\n",
       "    <tr>\n",
       "      <th>2</th>\n",
       "      <td>Снаряженная масса, кг</td>\n",
       "      <td>0.735544</td>\n",
       "      <td>0.943878</td>\n",
       "      <td>1.000000</td>\n",
       "    </tr>\n",
       "    <tr>\n",
       "      <th>3</th>\n",
       "      <td>Объем багажника, л</td>\n",
       "      <td>0.570470</td>\n",
       "      <td>1.000000</td>\n",
       "      <td>0.251007</td>\n",
       "    </tr>\n",
       "  </tbody>\n",
       "</table>\n",
       "</div>"
      ],
      "text/plain": [
       "    Техн. Характеристика  Tesla Model 3  Tesla Model S 90D  Tesla Model X\n",
       "0         Мощность, л.с.       0.611374           1.000000       0.789100\n",
       "1     max скорость, км/ч       0.900000           1.000000       0.840000\n",
       "2  Снаряженная масса, кг       0.735544           0.943878       1.000000\n",
       "3     Объем багажника, л       0.570470           1.000000       0.251007"
      ]
     },
     "execution_count": 20,
     "metadata": {},
     "output_type": "execute_result"
    }
   ],
   "source": [
    "df_chp_1"
   ]
  },
  {
   "cell_type": "code",
   "execution_count": 21,
   "id": "3e854714",
   "metadata": {},
   "outputs": [],
   "source": [
    "df_chp_2 = pd.DataFrame({'Эконом. Характеристика': ['Цена продаж(рубеж), $', 'Цена в России, $'],\n",
    "                  'Tesla Model 3': [list_mod_3_e[0], list_mod_3_e[1]],\n",
    "                  'Tesla Model S 90D': [list_mod_s_e[0], list_mod_s_e[1]],\n",
    "                  'Tesla Model X': [list_mod_x_e[0], list_mod_x_e[1]],\n",
    "                  })"
   ]
  },
  {
   "cell_type": "code",
   "execution_count": 22,
   "id": "f0fba6e5",
   "metadata": {},
   "outputs": [
    {
     "data": {
      "text/html": [
       "<div>\n",
       "<style scoped>\n",
       "    .dataframe tbody tr th:only-of-type {\n",
       "        vertical-align: middle;\n",
       "    }\n",
       "\n",
       "    .dataframe tbody tr th {\n",
       "        vertical-align: top;\n",
       "    }\n",
       "\n",
       "    .dataframe thead th {\n",
       "        text-align: right;\n",
       "    }\n",
       "</style>\n",
       "<table border=\"1\" class=\"dataframe\">\n",
       "  <thead>\n",
       "    <tr style=\"text-align: right;\">\n",
       "      <th></th>\n",
       "      <th>Эконом. Характеристика</th>\n",
       "      <th>Tesla Model 3</th>\n",
       "      <th>Tesla Model S 90D</th>\n",
       "      <th>Tesla Model X</th>\n",
       "    </tr>\n",
       "  </thead>\n",
       "  <tbody>\n",
       "    <tr>\n",
       "      <th>0</th>\n",
       "      <td>Цена продаж(рубеж), $</td>\n",
       "      <td>1.0</td>\n",
       "      <td>0.799511</td>\n",
       "      <td>0.140415</td>\n",
       "    </tr>\n",
       "    <tr>\n",
       "      <th>1</th>\n",
       "      <td>Цена в России, $</td>\n",
       "      <td>1.0</td>\n",
       "      <td>0.176053</td>\n",
       "      <td>0.496904</td>\n",
       "    </tr>\n",
       "  </tbody>\n",
       "</table>\n",
       "</div>"
      ],
      "text/plain": [
       "  Эконом. Характеристика  Tesla Model 3  Tesla Model S 90D  Tesla Model X\n",
       "0  Цена продаж(рубеж), $            1.0           0.799511       0.140415\n",
       "1       Цена в России, $            1.0           0.176053       0.496904"
      ]
     },
     "execution_count": 22,
     "metadata": {},
     "output_type": "execute_result"
    }
   ],
   "source": [
    "df_chp_2"
   ]
  },
  {
   "cell_type": "markdown",
   "id": "9a9c419a",
   "metadata": {},
   "source": [
    "### Матрица парных сравнений"
   ]
  },
  {
   "cell_type": "code",
   "execution_count": 28,
   "id": "17e8316b",
   "metadata": {},
   "outputs": [
    {
     "name": "stdout",
     "output_type": "stream",
     "text": [
      "Введите оценку сравнения: 1\n",
      "Введите оценку сравнения: 2\n",
      "Введите оценку сравнения: 2\n",
      "Введите оценку сравнения: 3\n",
      "Введите оценку сравнения: 0.5\n",
      "Введите оценку сравнения: 1\n",
      "Введите оценку сравнения: 3\n",
      "Введите оценку сравнения: 4\n",
      "Введите оценку сравнения: 0.5\n",
      "Введите оценку сравнения: 0.3\n",
      "Введите оценку сравнения: 1\n",
      "Введите оценку сравнения: 2\n",
      "Введите оценку сравнения: 0.3\n",
      "Введите оценку сравнения: 0.25\n",
      "Введите оценку сравнения: 0.5\n",
      "Введите оценку сравнения: 1\n"
     ]
    }
   ],
   "source": [
    "list1 = []\n",
    "list2 = []\n",
    "list3 = []\n",
    "list4 = []\n",
    "\n",
    "for i in range(4):\n",
    "    list1.append(float(input('Введите оценку сравнения: ')))\n",
    "    list2.append(float(input('Введите оценку сравнения: ')))\n",
    "    list3.append(float(input('Введите оценку сравнения: ')))\n",
    "    list4.append(float(input('Введите оценку сравнения: ')))"
   ]
  },
  {
   "cell_type": "code",
   "execution_count": 29,
   "id": "3e568f00",
   "metadata": {},
   "outputs": [
    {
     "data": {
      "text/plain": [
       "[1.0, 0.5, 0.5, 0.3]"
      ]
     },
     "execution_count": 29,
     "metadata": {},
     "output_type": "execute_result"
    }
   ],
   "source": [
    "list1 "
   ]
  },
  {
   "cell_type": "code",
   "execution_count": 30,
   "id": "864ded4e",
   "metadata": {},
   "outputs": [],
   "source": [
    "matr_tehn = pd.DataFrame({'Техн. Характеристика': ['Мощность, л.с.', 'max скорость, км/ч', 'Снаряженная масса, кг', 'Объем багажника, л'],\n",
    "                  'Мощность, л.с.': [list1[0], list1[1], list1[2], list1[3]],\n",
    "                  'max скорость, км/ч': [list2[0], list2[1], list2[2], list2[3]],\n",
    "                  'Снаряженная масса, кг': [list3[0], list3[1], list3[2], list3[3]],\n",
    "                  'Объем багажника, л': [list4[0], list4[1], list4[2], list4[3]],\n",
    "                  })"
   ]
  },
  {
   "cell_type": "code",
   "execution_count": 31,
   "id": "25f6ac8d",
   "metadata": {},
   "outputs": [
    {
     "data": {
      "text/html": [
       "<div>\n",
       "<style scoped>\n",
       "    .dataframe tbody tr th:only-of-type {\n",
       "        vertical-align: middle;\n",
       "    }\n",
       "\n",
       "    .dataframe tbody tr th {\n",
       "        vertical-align: top;\n",
       "    }\n",
       "\n",
       "    .dataframe thead th {\n",
       "        text-align: right;\n",
       "    }\n",
       "</style>\n",
       "<table border=\"1\" class=\"dataframe\">\n",
       "  <thead>\n",
       "    <tr style=\"text-align: right;\">\n",
       "      <th></th>\n",
       "      <th>Техн. Характеристика</th>\n",
       "      <th>Мощность, л.с.</th>\n",
       "      <th>max скорость, км/ч</th>\n",
       "      <th>Снаряженная масса, кг</th>\n",
       "      <th>Объем багажника, л</th>\n",
       "    </tr>\n",
       "  </thead>\n",
       "  <tbody>\n",
       "    <tr>\n",
       "      <th>0</th>\n",
       "      <td>Мощность, л.с.</td>\n",
       "      <td>1.0</td>\n",
       "      <td>2.00</td>\n",
       "      <td>2.0</td>\n",
       "      <td>3.0</td>\n",
       "    </tr>\n",
       "    <tr>\n",
       "      <th>1</th>\n",
       "      <td>max скорость, км/ч</td>\n",
       "      <td>0.5</td>\n",
       "      <td>1.00</td>\n",
       "      <td>3.0</td>\n",
       "      <td>4.0</td>\n",
       "    </tr>\n",
       "    <tr>\n",
       "      <th>2</th>\n",
       "      <td>Снаряженная масса, кг</td>\n",
       "      <td>0.5</td>\n",
       "      <td>0.30</td>\n",
       "      <td>1.0</td>\n",
       "      <td>2.0</td>\n",
       "    </tr>\n",
       "    <tr>\n",
       "      <th>3</th>\n",
       "      <td>Объем багажника, л</td>\n",
       "      <td>0.3</td>\n",
       "      <td>0.25</td>\n",
       "      <td>0.5</td>\n",
       "      <td>1.0</td>\n",
       "    </tr>\n",
       "  </tbody>\n",
       "</table>\n",
       "</div>"
      ],
      "text/plain": [
       "    Техн. Характеристика  Мощность, л.с.  max скорость, км/ч  \\\n",
       "0         Мощность, л.с.             1.0                2.00   \n",
       "1     max скорость, км/ч             0.5                1.00   \n",
       "2  Снаряженная масса, кг             0.5                0.30   \n",
       "3     Объем багажника, л             0.3                0.25   \n",
       "\n",
       "   Снаряженная масса, кг  Объем багажника, л  \n",
       "0                    2.0                 3.0  \n",
       "1                    3.0                 4.0  \n",
       "2                    1.0                 2.0  \n",
       "3                    0.5                 1.0  "
      ]
     },
     "execution_count": 31,
     "metadata": {},
     "output_type": "execute_result"
    }
   ],
   "source": [
    "matr_tehn"
   ]
  },
  {
   "cell_type": "code",
   "execution_count": 32,
   "id": "5a86d660",
   "metadata": {},
   "outputs": [
    {
     "name": "stdout",
     "output_type": "stream",
     "text": [
      "Введите оценку сравнения: 1\n",
      "Введите оценку сравнения: 2\n",
      "Введите оценку сравнения: 0.5\n",
      "Введите оценку сравнения: 1\n"
     ]
    }
   ],
   "source": [
    "list1_e = []\n",
    "list2_e = []\n",
    "\n",
    "for i in range(2):\n",
    "    list1_e.append(float(input('Введите оценку сравнения: ')))\n",
    "    list2_e.append(float(input('Введите оценку сравнения: ')))"
   ]
  },
  {
   "cell_type": "code",
   "execution_count": 33,
   "id": "46bea793",
   "metadata": {},
   "outputs": [],
   "source": [
    "matr_econom = pd.DataFrame({'Эконом. Характеристика': ['Цена продаж(рубеж), $', 'Цена в России, $'],\n",
    "                  'Цена продаж(рубеж), $': [list1_e[0], list1_e[1]],\n",
    "                  'Цена в России, $': [list2_e[0], list2_e[1]],\n",
    "                  })"
   ]
  },
  {
   "cell_type": "code",
   "execution_count": 34,
   "id": "e5b4a79d",
   "metadata": {},
   "outputs": [
    {
     "data": {
      "text/html": [
       "<div>\n",
       "<style scoped>\n",
       "    .dataframe tbody tr th:only-of-type {\n",
       "        vertical-align: middle;\n",
       "    }\n",
       "\n",
       "    .dataframe tbody tr th {\n",
       "        vertical-align: top;\n",
       "    }\n",
       "\n",
       "    .dataframe thead th {\n",
       "        text-align: right;\n",
       "    }\n",
       "</style>\n",
       "<table border=\"1\" class=\"dataframe\">\n",
       "  <thead>\n",
       "    <tr style=\"text-align: right;\">\n",
       "      <th></th>\n",
       "      <th>Эконом. Характеристика</th>\n",
       "      <th>Цена продаж(рубеж), $</th>\n",
       "      <th>Цена в России, $</th>\n",
       "    </tr>\n",
       "  </thead>\n",
       "  <tbody>\n",
       "    <tr>\n",
       "      <th>0</th>\n",
       "      <td>Цена продаж(рубеж), $</td>\n",
       "      <td>1.0</td>\n",
       "      <td>2.0</td>\n",
       "    </tr>\n",
       "    <tr>\n",
       "      <th>1</th>\n",
       "      <td>Цена в России, $</td>\n",
       "      <td>0.5</td>\n",
       "      <td>1.0</td>\n",
       "    </tr>\n",
       "  </tbody>\n",
       "</table>\n",
       "</div>"
      ],
      "text/plain": [
       "  Эконом. Характеристика  Цена продаж(рубеж), $  Цена в России, $\n",
       "0  Цена продаж(рубеж), $                    1.0               2.0\n",
       "1       Цена в России, $                    0.5               1.0"
      ]
     },
     "execution_count": 34,
     "metadata": {},
     "output_type": "execute_result"
    }
   ],
   "source": [
    "matr_econom"
   ]
  },
  {
   "cell_type": "markdown",
   "id": "4a6b363b",
   "metadata": {},
   "source": [
    "#### Вектор приоритетов"
   ]
  },
  {
   "cell_type": "code",
   "execution_count": 35,
   "id": "8b66a917",
   "metadata": {},
   "outputs": [
    {
     "data": {
      "text/plain": [
       "0.9999999999999999"
      ]
     },
     "execution_count": 35,
     "metadata": {},
     "output_type": "execute_result"
    }
   ],
   "source": [
    "vect1 = []\n",
    "\n",
    "m1 = sum(list1)\n",
    "m2 = sum(list2)\n",
    "m3 = sum(list3)\n",
    "m4 = sum(list4)\n",
    "\n",
    "vect1.append(m1 / (m1 + m2 + m3 + m4))\n",
    "vect1.append(m2 / (m1 + m2 + m3 + m4))\n",
    "vect1.append(m3 / (m1 + m2 + m3 + m4))\n",
    "vect1.append(m4 / (m1 + m2 + m3 + m4))\n",
    "\n",
    "vect_obsch = sum(vect1)\n",
    "vect_obsch"
   ]
  },
  {
   "cell_type": "code",
   "execution_count": 36,
   "id": "f634c71e",
   "metadata": {},
   "outputs": [
    {
     "data": {
      "text/html": [
       "<div>\n",
       "<style scoped>\n",
       "    .dataframe tbody tr th:only-of-type {\n",
       "        vertical-align: middle;\n",
       "    }\n",
       "\n",
       "    .dataframe tbody tr th {\n",
       "        vertical-align: top;\n",
       "    }\n",
       "\n",
       "    .dataframe thead th {\n",
       "        text-align: right;\n",
       "    }\n",
       "</style>\n",
       "<table border=\"1\" class=\"dataframe\">\n",
       "  <thead>\n",
       "    <tr style=\"text-align: right;\">\n",
       "      <th></th>\n",
       "      <th>Техн. Характеристика</th>\n",
       "      <th>Мощность, л.с.</th>\n",
       "      <th>max скорость, км/ч</th>\n",
       "      <th>Снаряженная масса, кг</th>\n",
       "      <th>Объем багажника, л</th>\n",
       "      <th>Вектор приоритетов</th>\n",
       "    </tr>\n",
       "  </thead>\n",
       "  <tbody>\n",
       "    <tr>\n",
       "      <th>0</th>\n",
       "      <td>Мощность, л.с.</td>\n",
       "      <td>1.0</td>\n",
       "      <td>2.00</td>\n",
       "      <td>2.0</td>\n",
       "      <td>3.0</td>\n",
       "      <td>0.102908</td>\n",
       "    </tr>\n",
       "    <tr>\n",
       "      <th>1</th>\n",
       "      <td>max скорость, км/ч</td>\n",
       "      <td>0.5</td>\n",
       "      <td>1.00</td>\n",
       "      <td>3.0</td>\n",
       "      <td>4.0</td>\n",
       "      <td>0.158837</td>\n",
       "    </tr>\n",
       "    <tr>\n",
       "      <th>2</th>\n",
       "      <td>Снаряженная масса, кг</td>\n",
       "      <td>0.5</td>\n",
       "      <td>0.30</td>\n",
       "      <td>1.0</td>\n",
       "      <td>2.0</td>\n",
       "      <td>0.290828</td>\n",
       "    </tr>\n",
       "    <tr>\n",
       "      <th>3</th>\n",
       "      <td>Объем багажника, л</td>\n",
       "      <td>0.3</td>\n",
       "      <td>0.25</td>\n",
       "      <td>0.5</td>\n",
       "      <td>1.0</td>\n",
       "      <td>0.447427</td>\n",
       "    </tr>\n",
       "  </tbody>\n",
       "</table>\n",
       "</div>"
      ],
      "text/plain": [
       "    Техн. Характеристика  Мощность, л.с.  max скорость, км/ч  \\\n",
       "0         Мощность, л.с.             1.0                2.00   \n",
       "1     max скорость, км/ч             0.5                1.00   \n",
       "2  Снаряженная масса, кг             0.5                0.30   \n",
       "3     Объем багажника, л             0.3                0.25   \n",
       "\n",
       "   Снаряженная масса, кг  Объем багажника, л  Вектор приоритетов  \n",
       "0                    2.0                 3.0            0.102908  \n",
       "1                    3.0                 4.0            0.158837  \n",
       "2                    1.0                 2.0            0.290828  \n",
       "3                    0.5                 1.0            0.447427  "
      ]
     },
     "execution_count": 36,
     "metadata": {},
     "output_type": "execute_result"
    }
   ],
   "source": [
    "matr_tehn['Вектор приоритетов'] = vect1\n",
    "matr_tehn"
   ]
  },
  {
   "cell_type": "code",
   "execution_count": 51,
   "id": "f730d7be",
   "metadata": {},
   "outputs": [
    {
     "data": {
      "text/plain": [
       "1.0"
      ]
     },
     "execution_count": 51,
     "metadata": {},
     "output_type": "execute_result"
    }
   ],
   "source": [
    "vect2 = []\n",
    "\n",
    "m2_1 = sum(list1_e)\n",
    "m2_2 = sum(list2_e)\n",
    "\n",
    "vect2.append(m2_1 / (m2_1 + m2_2))\n",
    "vect2.append(m2_2 / (m2_1 + m2_2))\n",
    "\n",
    "vect_obsch_2 = sum(vect2)\n",
    "vect_obsch_2"
   ]
  },
  {
   "cell_type": "code",
   "execution_count": 52,
   "id": "18f599d5",
   "metadata": {},
   "outputs": [
    {
     "data": {
      "text/html": [
       "<div>\n",
       "<style scoped>\n",
       "    .dataframe tbody tr th:only-of-type {\n",
       "        vertical-align: middle;\n",
       "    }\n",
       "\n",
       "    .dataframe tbody tr th {\n",
       "        vertical-align: top;\n",
       "    }\n",
       "\n",
       "    .dataframe thead th {\n",
       "        text-align: right;\n",
       "    }\n",
       "</style>\n",
       "<table border=\"1\" class=\"dataframe\">\n",
       "  <thead>\n",
       "    <tr style=\"text-align: right;\">\n",
       "      <th></th>\n",
       "      <th>Эконом. Характеристика</th>\n",
       "      <th>Цена продаж(рубеж), $</th>\n",
       "      <th>Цена в России, $</th>\n",
       "      <th>Вектор приоритетов</th>\n",
       "    </tr>\n",
       "  </thead>\n",
       "  <tbody>\n",
       "    <tr>\n",
       "      <th>0</th>\n",
       "      <td>Цена продаж(рубеж), $</td>\n",
       "      <td>1.0</td>\n",
       "      <td>2.0</td>\n",
       "      <td>0.333333</td>\n",
       "    </tr>\n",
       "    <tr>\n",
       "      <th>1</th>\n",
       "      <td>Цена в России, $</td>\n",
       "      <td>0.5</td>\n",
       "      <td>1.0</td>\n",
       "      <td>0.666667</td>\n",
       "    </tr>\n",
       "  </tbody>\n",
       "</table>\n",
       "</div>"
      ],
      "text/plain": [
       "  Эконом. Характеристика  Цена продаж(рубеж), $  Цена в России, $  \\\n",
       "0  Цена продаж(рубеж), $                    1.0               2.0   \n",
       "1       Цена в России, $                    0.5               1.0   \n",
       "\n",
       "   Вектор приоритетов  \n",
       "0            0.333333  \n",
       "1            0.666667  "
      ]
     },
     "execution_count": 52,
     "metadata": {},
     "output_type": "execute_result"
    }
   ],
   "source": [
    "matr_econom['Вектор приоритетов'] = vect2\n",
    "matr_econom"
   ]
  },
  {
   "cell_type": "markdown",
   "id": "defd6276",
   "metadata": {},
   "source": [
    "### Расчет  показателей технической и экономической конкурентноспособности"
   ]
  },
  {
   "cell_type": "markdown",
   "id": "686c1aaf",
   "metadata": {},
   "source": [
    "##### Обобщенный расчет показат. техн. кон-ти"
   ]
  },
  {
   "cell_type": "code",
   "execution_count": 38,
   "id": "b7307c30",
   "metadata": {},
   "outputs": [],
   "source": [
    "obtehn_mod3 = list_mod_3[0] * vect1[0] + list_mod_3[1] * vect1[3] + list_mod_3[2] * vect1[2] + list_mod_3[3] * vect1[1]\n",
    "obtehn_mods = list_mod_s[0] * vect1[0] + list_mod_s[1] * vect1[3] + list_mod_s[2] * vect1[2] + list_mod_s[3] * vect1[1]\n",
    "obtehn_modx = list_mod_x[0] * vect1[0] + list_mod_x[1] * vect1[3] + list_mod_x[2] * vect1[2] + list_mod_x[3] * vect1[1]\n",
    "\n",
    "obobch = [obtehn_mod3, obtehn_mods, obtehn_modx]"
   ]
  },
  {
   "cell_type": "code",
   "execution_count": 41,
   "id": "0875268b",
   "metadata": {},
   "outputs": [],
   "source": [
    "ob_tehn = pd.DataFrame({'Модель Tesla': ['Tesla Model 3', 'Tesla Model S 90D', 'Tesla Model X'],\n",
    "                  'Расчет показат. техн. конк-ти': [obobch[0], obobch[1], obobch[2]],\n",
    "                  })"
   ]
  },
  {
   "cell_type": "code",
   "execution_count": 45,
   "id": "a819d247",
   "metadata": {},
   "outputs": [],
   "source": [
    "df_ob_tehn = pd.DataFrame(ob_tehn)\n",
    "sort1 = df_ob_tehn.sort_values(by='Расчет показат. техн. конк-ти', ascending=False)"
   ]
  },
  {
   "cell_type": "code",
   "execution_count": 49,
   "id": "742edd96",
   "metadata": {},
   "outputs": [],
   "source": [
    "sort1['Рейтинг'] = [1, 2, 3]"
   ]
  },
  {
   "cell_type": "code",
   "execution_count": 50,
   "id": "4e70ef6c",
   "metadata": {},
   "outputs": [
    {
     "data": {
      "text/html": [
       "<div>\n",
       "<style scoped>\n",
       "    .dataframe tbody tr th:only-of-type {\n",
       "        vertical-align: middle;\n",
       "    }\n",
       "\n",
       "    .dataframe tbody tr th {\n",
       "        vertical-align: top;\n",
       "    }\n",
       "\n",
       "    .dataframe thead th {\n",
       "        text-align: right;\n",
       "    }\n",
       "</style>\n",
       "<table border=\"1\" class=\"dataframe\">\n",
       "  <thead>\n",
       "    <tr style=\"text-align: right;\">\n",
       "      <th></th>\n",
       "      <th>Модель Tesla</th>\n",
       "      <th>Расчет показат. техн. конк-ти</th>\n",
       "      <th>Рейтинг</th>\n",
       "    </tr>\n",
       "  </thead>\n",
       "  <tbody>\n",
       "    <tr>\n",
       "      <th>1</th>\n",
       "      <td>Tesla Model S 90D</td>\n",
       "      <td>0.983678</td>\n",
       "      <td>1</td>\n",
       "    </tr>\n",
       "    <tr>\n",
       "      <th>2</th>\n",
       "      <td>Tesla Model X</td>\n",
       "      <td>0.787741</td>\n",
       "      <td>2</td>\n",
       "    </tr>\n",
       "    <tr>\n",
       "      <th>0</th>\n",
       "      <td>Tesla Model 3</td>\n",
       "      <td>0.770128</td>\n",
       "      <td>3</td>\n",
       "    </tr>\n",
       "  </tbody>\n",
       "</table>\n",
       "</div>"
      ],
      "text/plain": [
       "        Модель Tesla  Расчет показат. техн. конк-ти  Рейтинг\n",
       "1  Tesla Model S 90D                       0.983678        1\n",
       "2      Tesla Model X                       0.787741        2\n",
       "0      Tesla Model 3                       0.770128        3"
      ]
     },
     "execution_count": 50,
     "metadata": {},
     "output_type": "execute_result"
    }
   ],
   "source": [
    "sort1"
   ]
  },
  {
   "cell_type": "markdown",
   "id": "6a9aeda0",
   "metadata": {},
   "source": [
    "#### Обобщенный расчет экономич. конк-ти"
   ]
  },
  {
   "cell_type": "code",
   "execution_count": 53,
   "id": "e63b9792",
   "metadata": {},
   "outputs": [],
   "source": [
    "obeconom_mod3 = list_mod_3_e[0] * vect2[0] + list_mod_3_e[1] * vect2[1] \n",
    "obeconom_mods = list_mod_s_e[0] * vect2[0] + list_mod_s_e[1] * vect2[1] \n",
    "obeconom_modx = list_mod_x_e[0] * vect2[0] + list_mod_x_e[1] * vect2[1] \n",
    "\n",
    "obobch2 = [obeconom_mod3, obeconom_mods, obeconom_modx]"
   ]
  },
  {
   "cell_type": "code",
   "execution_count": 54,
   "id": "7bd99191",
   "metadata": {},
   "outputs": [],
   "source": [
    "ob_econom = pd.DataFrame({'Модель Tesla': ['Tesla Model 3', 'Tesla Model S 90D', 'Tesla Model X'],\n",
    "                  'Расчет показат. экономич. конк-ти': [obobch2[0], obobch2[1], obobch2[2]],\n",
    "                  })"
   ]
  },
  {
   "cell_type": "code",
   "execution_count": 56,
   "id": "a8099571",
   "metadata": {},
   "outputs": [],
   "source": [
    "df_ob_econom = pd.DataFrame(ob_econom)\n",
    "sort2 = df_ob_econom.sort_values(by='Расчет показат. экономич. конк-ти', ascending=False)"
   ]
  },
  {
   "cell_type": "code",
   "execution_count": 57,
   "id": "77d79684",
   "metadata": {},
   "outputs": [],
   "source": [
    "sort2['Рейтинг'] = [1, 2, 3]"
   ]
  },
  {
   "cell_type": "code",
   "execution_count": 58,
   "id": "6e15ae70",
   "metadata": {},
   "outputs": [
    {
     "data": {
      "text/html": [
       "<div>\n",
       "<style scoped>\n",
       "    .dataframe tbody tr th:only-of-type {\n",
       "        vertical-align: middle;\n",
       "    }\n",
       "\n",
       "    .dataframe tbody tr th {\n",
       "        vertical-align: top;\n",
       "    }\n",
       "\n",
       "    .dataframe thead th {\n",
       "        text-align: right;\n",
       "    }\n",
       "</style>\n",
       "<table border=\"1\" class=\"dataframe\">\n",
       "  <thead>\n",
       "    <tr style=\"text-align: right;\">\n",
       "      <th></th>\n",
       "      <th>Модель Tesla</th>\n",
       "      <th>Расчет показат. экономич. конк-ти</th>\n",
       "      <th>Рейтинг</th>\n",
       "    </tr>\n",
       "  </thead>\n",
       "  <tbody>\n",
       "    <tr>\n",
       "      <th>0</th>\n",
       "      <td>Tesla Model 3</td>\n",
       "      <td>1.000000</td>\n",
       "      <td>1</td>\n",
       "    </tr>\n",
       "    <tr>\n",
       "      <th>1</th>\n",
       "      <td>Tesla Model S 90D</td>\n",
       "      <td>0.383872</td>\n",
       "      <td>2</td>\n",
       "    </tr>\n",
       "    <tr>\n",
       "      <th>2</th>\n",
       "      <td>Tesla Model X</td>\n",
       "      <td>0.378074</td>\n",
       "      <td>3</td>\n",
       "    </tr>\n",
       "  </tbody>\n",
       "</table>\n",
       "</div>"
      ],
      "text/plain": [
       "        Модель Tesla  Расчет показат. экономич. конк-ти  Рейтинг\n",
       "0      Tesla Model 3                           1.000000        1\n",
       "1  Tesla Model S 90D                           0.383872        2\n",
       "2      Tesla Model X                           0.378074        3"
      ]
     },
     "execution_count": 58,
     "metadata": {},
     "output_type": "execute_result"
    }
   ],
   "source": [
    "sort2"
   ]
  },
  {
   "cell_type": "markdown",
   "id": "4c795d6d",
   "metadata": {},
   "source": [
    "### Расчет интегр. показ. конкур-ти"
   ]
  },
  {
   "cell_type": "code",
   "execution_count": 64,
   "id": "e0e4b6d8",
   "metadata": {},
   "outputs": [
    {
     "data": {
      "text/plain": [
       "[0.8850641238846005, 0.6837751835121373, 0.5829075386369822]"
      ]
     },
     "execution_count": 64,
     "metadata": {},
     "output_type": "execute_result"
    }
   ],
   "source": [
    "int_pok = [obobch[0] * 0.5 + obobch2[0] * 0.5, obobch[1] * 0.5 + obobch2[1] * 0.5, obobch[2] * 0.5 + obobch2[2] * 0.5]\n",
    "int_pok"
   ]
  },
  {
   "cell_type": "code",
   "execution_count": 65,
   "id": "9095dcfc",
   "metadata": {},
   "outputs": [],
   "source": [
    "df_end = pd.DataFrame({'Модель Tesla': ['Tesla Model 3', 'Tesla Model S 90D', 'Tesla Model X'],\n",
    "                  'Расчет инт. показат. конк-ти': [int_pok[0], int_pok[1], int_pok[2]],\n",
    "                  })"
   ]
  },
  {
   "cell_type": "code",
   "execution_count": 66,
   "id": "afd9198f",
   "metadata": {},
   "outputs": [
    {
     "data": {
      "text/html": [
       "<div>\n",
       "<style scoped>\n",
       "    .dataframe tbody tr th:only-of-type {\n",
       "        vertical-align: middle;\n",
       "    }\n",
       "\n",
       "    .dataframe tbody tr th {\n",
       "        vertical-align: top;\n",
       "    }\n",
       "\n",
       "    .dataframe thead th {\n",
       "        text-align: right;\n",
       "    }\n",
       "</style>\n",
       "<table border=\"1\" class=\"dataframe\">\n",
       "  <thead>\n",
       "    <tr style=\"text-align: right;\">\n",
       "      <th></th>\n",
       "      <th>Модель Tesla</th>\n",
       "      <th>Расчет инт. показат. конк-ти</th>\n",
       "      <th>Рейтинг</th>\n",
       "    </tr>\n",
       "  </thead>\n",
       "  <tbody>\n",
       "    <tr>\n",
       "      <th>0</th>\n",
       "      <td>Tesla Model 3</td>\n",
       "      <td>0.885064</td>\n",
       "      <td>1</td>\n",
       "    </tr>\n",
       "    <tr>\n",
       "      <th>1</th>\n",
       "      <td>Tesla Model S 90D</td>\n",
       "      <td>0.683775</td>\n",
       "      <td>2</td>\n",
       "    </tr>\n",
       "    <tr>\n",
       "      <th>2</th>\n",
       "      <td>Tesla Model X</td>\n",
       "      <td>0.582908</td>\n",
       "      <td>3</td>\n",
       "    </tr>\n",
       "  </tbody>\n",
       "</table>\n",
       "</div>"
      ],
      "text/plain": [
       "        Модель Tesla  Расчет инт. показат. конк-ти  Рейтинг\n",
       "0      Tesla Model 3                      0.885064        1\n",
       "1  Tesla Model S 90D                      0.683775        2\n",
       "2      Tesla Model X                      0.582908        3"
      ]
     },
     "execution_count": 66,
     "metadata": {},
     "output_type": "execute_result"
    }
   ],
   "source": [
    "df_end_2 = pd.DataFrame(df_end)\n",
    "sort_end = df_end_2.sort_values(by='Расчет инт. показат. конк-ти', ascending=False)\n",
    "sort_end['Рейтинг'] = [1, 2, 3]\n",
    "sort_end"
   ]
  }
 ],
 "metadata": {
  "kernelspec": {
   "display_name": "Python 3",
   "language": "python",
   "name": "python3"
  },
  "language_info": {
   "codemirror_mode": {
    "name": "ipython",
    "version": 3
   },
   "file_extension": ".py",
   "mimetype": "text/x-python",
   "name": "python",
   "nbconvert_exporter": "python",
   "pygments_lexer": "ipython3",
   "version": "3.8.8"
  }
 },
 "nbformat": 4,
 "nbformat_minor": 5
}
